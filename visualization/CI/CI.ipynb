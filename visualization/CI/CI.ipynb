{
 "cells": [
  {
   "cell_type": "code",
   "execution_count": 1,
   "metadata": {},
   "outputs": [
    {
     "name": "stdout",
     "output_type": "stream",
     "text": [
      "12\n"
     ]
    }
   ],
   "source": [
    "import glob\n",
    "\n",
    "root = glob.glob('./result/*')\n",
    "print(len(root))"
   ]
  },
  {
   "cell_type": "code",
   "execution_count": 2,
   "metadata": {},
   "outputs": [],
   "source": [
    "import numpy as np\n",
    "import scipy as sp\n",
    "import scipy.stats\n",
    "\n",
    "def mean_confidence_interval(data, confidence=0.95):\n",
    "       a = 1.0*np.array(data)\n",
    "       n = len(a)\n",
    "       m, se = np.mean(a), scipy.stats.sem(a)\n",
    "       h = se * sp.stats.t._ppf((1+confidence)/2., n-1)\n",
    "       return m, m-h, m+h"
   ]
  },
  {
   "cell_type": "code",
   "execution_count": 3,
   "metadata": {},
   "outputs": [],
   "source": [
    "import cv2\n",
    "import numpy as np\n",
    "\n",
    "size = 144\n",
    "x = []\n",
    "y = []\n",
    "err = []\n",
    "y_0 = []\n",
    "err_0 = []\n",
    "dsc_0_num = []\n",
    "\n",
    "for fold in root:\n",
    "    gt_list = sorted(glob.glob(fold+'/GT*.jpg'))\n",
    "    seg_list = sorted(glob.glob(fold+'/SEG*.jpg'))\n",
    "\n",
    "    DSC_list = []\n",
    "    DSC_wo_0_list = []\n",
    "\n",
    "    for i in range(len(gt_list)):\n",
    "        \n",
    "        GT = cv2.imread(gt_list[i], 0) / 255\n",
    "\n",
    "        GT[GT > 0.5] = 1\n",
    "        GT[GT <= 0.5] = 0\n",
    "\n",
    "        AUTO = cv2.imread(seg_list[i], 0) / 255\n",
    "\n",
    "        AUTO[AUTO > 0.5] = 1\n",
    "        AUTO[AUTO <= 0.5] = 0\n",
    "\n",
    "        A_Intersect_G = np.multiply(AUTO, GT)\n",
    "                \n",
    "        DSC = (2 * np.sum(A_Intersect_G)) / (np.sum(AUTO) + np.sum(GT))\n",
    "\n",
    "        if DSC > 0:\n",
    "            DSC_list.append(DSC)\n",
    "            DSC_wo_0_list.append(DSC)\n",
    "        else:\n",
    "            DSC_list.append(DSC)\n",
    "\n",
    "    m, nh, ph = mean_confidence_interval(DSC_list, confidence=0.95)\n",
    "    m_0, nh_0, ph_0 = mean_confidence_interval(DSC_wo_0_list, confidence=0.95)\n",
    "\n",
    "    x.append(size)\n",
    "    y.append(m)\n",
    "    err.append(m-nh)\n",
    "    \n",
    "    y_0.append(m_0)\n",
    "    err_0.append(m_0-nh_0)\n",
    "    dsc_0_num.append(len(DSC_list) - len(DSC_wo_0_list))\n",
    "\n",
    "    size = size + 16\n",
    "\n",
    "\n",
    "    #print(m, nh, ph)\n",
    "    #print(m_0, nh_0, ph_0)\n",
    "    #print(\"----------------------------\")"
   ]
  },
  {
   "cell_type": "code",
   "execution_count": 4,
   "metadata": {},
   "outputs": [
    {
     "name": "stdout",
     "output_type": "stream",
     "text": [
      "crop size      mean       err    mean_0     err_0  dsc 0\n",
      "144        0.743138  0.009517  0.752137  0.008924     24\n",
      "160        0.735835  0.009593  0.747764  0.008811     32\n",
      "176        0.730439  0.010041  0.745680  0.009101     41\n",
      "192        0.741499  0.009647  0.751615  0.008991     27\n",
      "208        0.722206  0.010180  0.733913  0.009502     32\n",
      "224        0.685039  0.012020  0.716096  0.010644     87\n",
      "240        0.655476  0.012780  0.697922  0.011166    122\n",
      "256        0.595714  0.014219  0.681689  0.011667    253\n",
      "272        0.548957  0.015257  0.665382  0.012725    351\n",
      "288        0.499045  0.016101  0.667835  0.013228    507\n",
      "304        0.490486  0.016066  0.661234  0.013313    518\n",
      "320        0.475137  0.016634  0.669800  0.014049    583\n"
     ]
    }
   ],
   "source": [
    "import pandas as pd\n",
    "data = {\"mean\": y, \"err\": err,\"mean_0\": y_0, \"err_0\": err_0, \"dsc 0\": dsc_0_num}\n",
    "df = pd.DataFrame(data, index=x)\n",
    "df.columns.name = 'crop size'\n",
    "df.to_excel(\"table.xlsx\")\n",
    "print(df)"
   ]
  },
  {
   "cell_type": "code",
   "execution_count": 5,
   "metadata": {},
   "outputs": [
    {
     "data": {
      "image/png": "[encoded data removed]",
      "text/plain": [
       "<Figure size 432x288 with 1 Axes>"
      ]
     },
     "metadata": {
      "needs_background": "light"
     },
     "output_type": "display_data"
    }
   ],
   "source": [
    "import matplotlib.pyplot as plt\n",
    "plt.errorbar(x, y, yerr=err, fmt='.k')\n",
    "plt.show()"
   ]
  },
  {
   "cell_type": "code",
   "execution_count": 6,
   "metadata": {},
   "outputs": [
    {
     "data": {
      "image/png": "[encoded data removed]",
      "text/plain": [
       "<Figure size 432x288 with 1 Axes>"
      ]
     },
     "metadata": {
      "needs_background": "light"
     },
     "output_type": "display_data"
    }
   ],
   "source": [
    "plt.errorbar(x, y_0, yerr=err_0, fmt='.k')\n",
    "plt.show()"
   ]
  },
  {
   "cell_type": "code",
   "execution_count": 7,
   "metadata": {},
   "outputs": [
    {
     "name": "stdout",
     "output_type": "stream",
     "text": [
      "[0.009516934108760977, 0.009592623857185734, 0.010041212831876534, 0.00964667236896144, 0.010180332083001842, 0.012020354060336969, 0.01278039342372228, 0.01421866969357477, 0.015257275623713817, 0.01610066919348707, 0.01606599727088759, 0.01663368792673159]\n",
      "[0.008924127647116253, 0.008811391249567535, 0.009100826738937084, 0.008990658303149823, 0.009501561229279809, 0.010644249071062872, 0.011166261560847435, 0.011667001122130594, 0.012725382463914525, 0.013227894051099254, 0.01331309378093326, 0.01404943801977998]\n"
     ]
    }
   ],
   "source": [
    "print(err)\n",
    "print(err_0)"
   ]
  },
  {
   "cell_type": "code",
   "execution_count": null,
   "metadata": {},
   "outputs": [],
   "source": []
  }
 ],
 "metadata": {
  "kernelspec": {
   "display_name": "Python 3.7.5 64-bit",
   "language": "python",
   "name": "python37564bit9e6f021084e44a58b203b96442b6f32f"
  },
  "language_info": {
   "codemirror_mode": {
    "name": "ipython",
    "version": 3
   },
   "file_extension": ".py",
   "mimetype": "text/x-python",
   "name": "python",
   "nbconvert_exporter": "python",
   "pygments_lexer": "ipython3",
   "version": "3.7.5"
  }
 },
 "nbformat": 4,
 "nbformat_minor": 2
}
