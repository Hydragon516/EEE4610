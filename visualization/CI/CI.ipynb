{
 "cells": [
  {
   "cell_type": "code",
   "execution_count": 1,
   "metadata": {},
   "outputs": [
    {
     "name": "stdout",
     "output_type": "stream",
     "text": "12\n"
    }
   ],
   "source": [
    "import glob\n",
    "\n",
    "root = glob.glob('./result/*')\n",
    "print(len(root))"
   ]
  },
  {
   "cell_type": "code",
   "execution_count": 2,
   "metadata": {},
   "outputs": [],
   "source": [
    "import numpy as np\n",
    "import scipy as sp\n",
    "import scipy.stats\n",
    "\n",
    "def mean_confidence_interval(data, confidence=0.95):\n",
    "       a = 1.0*np.array(data)\n",
    "       n = len(a)\n",
    "       m, se = np.mean(a), scipy.stats.sem(a)\n",
    "       h = se * sp.stats.t._ppf((1+confidence)/2., n-1)\n",
    "       return m, m-h, m+h"
   ]
  },
  {
   "cell_type": "code",
   "execution_count": 3,
   "metadata": {},
   "outputs": [
    {
     "name": "stdout",
     "output_type": "stream",
     "text": "0.679998788384814 0.6733941653547879 0.68660341141484\n0.6628185579725481 0.6558997730693584 0.6697373428757377\n0.6395527369589818 0.632142669404582 0.6469628045133817\n0.6292323190142088 0.6217182929660199 0.6367463450623978\n0.6128152042297493 0.6050336888514196 0.620596719608079\n0.6011619117847073 0.5933468392512861 0.6089769843181286\n0.5910386296584581 0.583101982716481 0.5989752766004353\n0.5738713986326909 0.5657442852847 0.5819985119806818\n0.5534121891978342 0.5451787161983125 0.5616456621973559\n0.5534463469189586 0.5450523165536679 0.5618403772842492\n0.5077100005566046 0.49896126610943703 0.5164587350037723\n0.5355201000594391 0.5270004247497347 0.5440397753691434\n"
    }
   ],
   "source": [
    "import cv2\n",
    "import numpy as np\n",
    "\n",
    "size = 144\n",
    "x = []\n",
    "y = []\n",
    "err = []\n",
    "\n",
    "for fold in root:\n",
    "    gt_list = sorted(glob.glob(fold+'/GT*.jpg'))\n",
    "    seg_list = sorted(glob.glob(fold+'/SEG*.jpg'))\n",
    "\n",
    "    DSC_list = []\n",
    "\n",
    "    for i in range(len(gt_list)):\n",
    "        \n",
    "        GT = cv2.imread(gt_list[i], 0) / 255\n",
    "\n",
    "        GT[GT > 0.5] = 1\n",
    "        GT[GT <= 0.5] = 0\n",
    "\n",
    "        AUTO = cv2.imread(seg_list[i], 0) / 255\n",
    "\n",
    "        AUTO[AUTO > 0.5] = 1\n",
    "        AUTO[AUTO <= 0.5] = 0\n",
    "\n",
    "        A_Intersect_G = np.multiply(AUTO, GT)\n",
    "                \n",
    "        DSC = (2 * np.sum(A_Intersect_G)) / (np.sum(AUTO) + np.sum(GT))\n",
    "\n",
    "        if DSC >= 0:\n",
    "            DSC_list.append(DSC)\n",
    "\n",
    "    m, nh, ph = mean_confidence_interval(DSC_list, confidence=0.95)\n",
    "\n",
    "    x.append(size)\n",
    "    y.append(m)\n",
    "    err.append(m-nh)\n",
    "\n",
    "    size = size + 16\n",
    "\n",
    "\n",
    "    print(m, nh, ph)"
   ]
  },
  {
   "cell_type": "code",
   "execution_count": 6,
   "metadata": {},
   "outputs": [
    {
     "data": {
      "image/png": "[encoded data removed]",
      "text/plain": "<Figure size 432x288 with 1 Axes>"
     },
     "metadata": {
      "needs_background": "light"
     },
     "output_type": "display_data"
    }
   ],
   "source": [
    "import matplotlib.pyplot as plt\n",
    "plt.errorbar(x, y, yerr=err, fmt='.k')\n",
    "plt.show()"
   ]
  },
  {
   "cell_type": "code",
   "execution_count": 5,
   "metadata": {},
   "outputs": [
    {
     "name": "stdout",
     "output_type": "stream",
     "text": "[0.006604623030026069, 0.006918784903189645, 0.0074100675543998795, 0.00751402604818896, 0.0077815153783297175, 0.007815072533421286, 0.007936646941977155, 0.008127113347990877, 0.008233472999521707, 0.008394030365290628, 0.008748734447167617, 0.008519675309704322]\n"
    }
   ],
   "source": [
    "print(err)"
   ]
  },
  {
   "cell_type": "code",
   "execution_count": null,
   "metadata": {},
   "outputs": [],
   "source": []
  }
 ],
 "metadata": {
  "kernelspec": {
   "name": "python37464bitbasecondaaa9348a3cfa54e68ba62912b349bc67d",
   "display_name": "Python 3.7.4 64-bit ('base': conda)"
  }
 },
 "nbformat": 4,
 "nbformat_minor": 2
}