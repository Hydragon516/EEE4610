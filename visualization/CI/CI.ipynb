{
 "cells": [
  {
   "cell_type": "code",
   "execution_count": 1,
   "metadata": {},
   "outputs": [
    {
     "name": "stdout",
     "output_type": "stream",
     "text": [
      "13\n"
     ]
    }
   ],
   "source": [
    "import glob\n",
    "\n",
    "root = glob.glob('./result_b/*')\n",
    "print(len(root))"
   ]
  },
  {
   "cell_type": "code",
   "execution_count": 2,
   "metadata": {},
   "outputs": [],
   "source": [
    "import numpy as np\n",
    "import scipy as sp\n",
    "import scipy.stats\n",
    "\n",
    "def mean_confidence_interval(data, confidence=0.95):\n",
    "       a = 1.0*np.array(data)\n",
    "       n = len(a)\n",
    "       m, se = np.mean(a), scipy.stats.sem(a)\n",
    "       h = se * sp.stats.t._ppf((1+confidence)/2., n-1)\n",
    "       return m, m-h, m+h"
   ]
  },
  {
   "cell_type": "code",
   "execution_count": 3,
   "metadata": {},
   "outputs": [],
   "source": [
    "import cv2\n",
    "import numpy as np\n",
    "\n",
    "\n",
    "x = []\n",
    "y = []\n",
    "err = []\n",
    "y_0 = []\n",
    "err_0 = []\n",
    "dsc_0_num = []\n",
    "\n",
    "for fold in root:\n",
    "    size = fold.split(\"\\\\\")[-1]\n",
    "    gt_list = sorted(glob.glob(fold+'/GT*.jpg'))\n",
    "    seg_list = sorted(glob.glob(fold+'/SEG*.jpg'))\n",
    "\n",
    "    DSC_list = []\n",
    "    DSC_wo_0_list = []\n",
    "\n",
    "    for i in range(len(gt_list)):\n",
    "        \n",
    "        GT = cv2.imread(gt_list[i], 0) / 255\n",
    "\n",
    "        GT[GT > 0.5] = 1\n",
    "        GT[GT <= 0.5] = 0\n",
    "\n",
    "        AUTO = cv2.imread(seg_list[i], 0) / 255\n",
    "\n",
    "        AUTO[AUTO > 0.5] = 1\n",
    "        AUTO[AUTO <= 0.5] = 0\n",
    "\n",
    "        A_Intersect_G = np.multiply(AUTO, GT)\n",
    "                \n",
    "        DSC = (2 * np.sum(A_Intersect_G)) / (np.sum(AUTO) + np.sum(GT))\n",
    "\n",
    "        if DSC > 0:\n",
    "            DSC_list.append(DSC)\n",
    "            DSC_wo_0_list.append(DSC)\n",
    "        else:\n",
    "            DSC_list.append(DSC)\n",
    "\n",
    "    m, nh, ph = mean_confidence_interval(DSC_list, confidence=0.95)\n",
    "    m_0, nh_0, ph_0 = mean_confidence_interval(DSC_wo_0_list, confidence=0.95)\n",
    "\n",
    "    x.append(size)\n",
    "    y.append(m)\n",
    "    err.append(m-nh)\n",
    "    \n",
    "    y_0.append(m_0)\n",
    "    err_0.append(m_0-nh_0)\n",
    "    dsc_0_num.append(len(DSC_list) - len(DSC_wo_0_list))\n",
    "\n",
    "    #print(m, nh, ph)\n",
    "    #print(m_0, nh_0, ph_0)\n",
    "    #print(\"----------------------------\")"
   ]
  },
  {
   "cell_type": "code",
   "execution_count": 4,
   "metadata": {},
   "outputs": [
    {
     "name": "stdout",
     "output_type": "stream",
     "text": [
      "crop size      mean       err    mean_0     err_0  dsc 0\n",
      "144        0.780575  0.007223  0.782523  0.007036      5\n",
      "160        0.772666  0.007467  0.776143  0.007146      9\n",
      "176        0.769151  0.007709  0.773773  0.007298     12\n",
      "192        0.770028  0.007793  0.775044  0.007351     13\n",
      "208        0.761861  0.008161  0.764907  0.007915      8\n",
      "224        0.735419  0.009476  0.743561  0.008949     22\n",
      "240        0.704643  0.010518  0.719323  0.009729     41\n",
      "256        0.634801  0.013262  0.695374  0.011076    175\n",
      "272        0.588995  0.014468  0.678882  0.011975    266\n",
      "288        0.570405  0.014769  0.680085  0.011823    324\n",
      "304        0.570139  0.014858  0.685054  0.011729    337\n",
      "320        0.512553  0.015644  0.660076  0.012875    449\n",
      "512        0.461568  0.016180  0.651644  0.013674    586\n"
     ]
    }
   ],
   "source": [
    "import pandas as pd\n",
    "data = {\"mean\": y, \"err\": err,\"mean_0\": y_0, \"err_0\": err_0, \"dsc 0\": dsc_0_num}\n",
    "df = pd.DataFrame(data, index=x)\n",
    "df.columns.name = 'crop size'\n",
    "df.to_excel(\"table.xlsx\")\n",
    "print(df)"
   ]
  },
  {
   "cell_type": "code",
   "execution_count": 5,
   "metadata": {},
   "outputs": [
    {
     "data": {
      "image/png": "[encoded data removed]",
      "text/plain": [
       "<Figure size 432x288 with 1 Axes>"
      ]
     },
     "metadata": {
      "needs_background": "light"
     },
     "output_type": "display_data"
    }
   ],
   "source": [
    "import matplotlib.pyplot as plt\n",
    "plt.errorbar(x, y, yerr=err, fmt='.k')\n",
    "plt.show()"
   ]
  },
  {
   "cell_type": "code",
   "execution_count": 6,
   "metadata": {},
   "outputs": [
    {
     "data": {
      "image/png": "[encoded data removed]",
      "text/plain": [
       "<Figure size 432x288 with 1 Axes>"
      ]
     },
     "metadata": {
      "needs_background": "light"
     },
     "output_type": "display_data"
    }
   ],
   "source": [
    "plt.errorbar(x, y_0, yerr=err_0, fmt='.k')\n",
    "plt.show()"
   ]
  },
  {
   "cell_type": "code",
   "execution_count": 7,
   "metadata": {},
   "outputs": [
    {
     "name": "stdout",
     "output_type": "stream",
     "text": [
      "[0.007222839385239488, 0.0074667037647996315, 0.007709394526946189, 0.007792931773257128, 0.008160585418514943, 0.00947640924777371, 0.010518229790827727, 0.01326186819134978, 0.014467659868516614, 0.014769442151042367, 0.014857724483322787, 0.01564375027428805, 0.016179918158633844]\n",
      "[0.007035904011822081, 0.007145819552362931, 0.007297991584553465, 0.007350538501970538, 0.007915095950947526, 0.00894865280325019, 0.009728666562310972, 0.011076433668635755, 0.011974686273455215, 0.011823359414840806, 0.011729415815757593, 0.012874784262315586, 0.01367433192749401]\n"
     ]
    }
   ],
   "source": [
    "print(err)\n",
    "print(err_0)"
   ]
  },
  {
   "cell_type": "code",
   "execution_count": null,
   "metadata": {},
   "outputs": [],
   "source": []
  }
 ],
 "metadata": {
  "kernelspec": {
   "display_name": "Python 3.7.5 64-bit",
   "language": "python",
   "name": "python37564bit9e6f021084e44a58b203b96442b6f32f"
  },
  "language_info": {
   "codemirror_mode": {
    "name": "ipython",
    "version": 3
   },
   "file_extension": ".py",
   "mimetype": "text/x-python",
   "name": "python",
   "nbconvert_exporter": "python",
   "pygments_lexer": "ipython3",
   "version": "3.7.5"
  }
 },
 "nbformat": 4,
 "nbformat_minor": 2
}
