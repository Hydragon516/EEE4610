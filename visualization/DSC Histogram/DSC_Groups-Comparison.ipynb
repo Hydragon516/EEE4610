{
 "cells": [
  {
   "cell_type": "code",
   "execution_count": null,
   "metadata": {},
   "outputs": [],
   "source": [
    "import matplotlib.pyplot as plt\n",
    "import numpy as np\n",
    "import cv2\n",
    "import glob\n",
    "import os\n",
    "import pandas as pd"
   ]
  },
  {
   "cell_type": "code",
   "execution_count": null,
   "metadata": {},
   "outputs": [],
   "source": [
    "#Original\n",
    "folder_list = sorted(os.walk(\"./result_12bit\").__next__()[1])\n",
    "\n",
    "lst_A = folder_list[1:5]\n",
    "lst_B = folder_list[5:9]\n",
    "lst_C = folder_list[9:13]\n",
    "\n",
    "print(lst_A, lst_B, lst_C)"
   ]
  },
  {
   "cell_type": "code",
   "execution_count": null,
   "metadata": {},
   "outputs": [],
   "source": [
    "#Window Setting Applied\n",
    "path = './result_1/'\n",
    "folder_list = sorted(os.walk(path).__next__()[1])\n",
    "\n",
    "lst_A_2 = folder_list[0:4]\n",
    "lst_B_2 = folder_list[4:8]\n",
    "lst_C_2 = folder_list[8:12]\n",
    "\n",
    "print(lst_A, lst_B, lst_C)"
   ]
  },
  {
   "cell_type": "code",
   "execution_count": null,
   "metadata": {},
   "outputs": [],
   "source": [
    "def merge(lst, path):\n",
    "    merged_gt = []\n",
    "    merged_seg = []\n",
    "    \n",
    "    for folder in lst:\n",
    "        gt_list = sorted(glob.glob(path + folder + '/GT*.jpg'))\n",
    "        seg_list = sorted(glob.glob(path + folder + '/SEG*.jpg'))\n",
    "        \n",
    "        merged_gt += gt_list\n",
    "        merged_seg += seg_list\n",
    "    \n",
    "    return merged_gt, merged_seg"
   ]
  },
  {
   "cell_type": "code",
   "execution_count": null,
   "metadata": {},
   "outputs": [],
   "source": [
    "merged_A_gt, merged_A_seg = merge(lst_A, './result_12bit/')\n",
    "merged_B_gt, merged_B_seg = merge(lst_B, './result_12bit/')\n",
    "merged_C_gt, merged_C_seg = merge(lst_C, './result_12bit/')\n",
    "\n",
    "#Change path\n",
    "merged_A_gt_2, merged_A_seg_2 = merge(lst_A, path)\n",
    "merged_B_gt_2, merged_B_seg_2 = merge(lst_B, path)\n",
    "merged_C_gt_2, merged_C_seg_2 = merge(lst_C, path)\n",
    "\n",
    "\n",
    "print(len(merged_C_gt), len(merged_C_gt_2))"
   ]
  },
  {
   "cell_type": "code",
   "execution_count": null,
   "metadata": {},
   "outputs": [],
   "source": [
    "def DSC_list(gt_list, seg_list):\n",
    "    \n",
    "    DSC_list = []\n",
    "    GT_sum = []\n",
    "    \n",
    "    for i in range(len(gt_list)):\n",
    "        \n",
    "        GT = cv2.imread(gt_list[i], 0) / 255\n",
    "\n",
    "        GT[GT > 0.5] = 1\n",
    "        GT[GT <= 0.5] = 0\n",
    "\n",
    "        AUTO = cv2.imread(seg_list[i], 0) / 255\n",
    "\n",
    "        AUTO[AUTO > 0.5] = 1\n",
    "        AUTO[AUTO <= 0.5] = 0\n",
    "\n",
    "        A_Intersect_G = np.multiply(AUTO, GT)\n",
    "                \n",
    "        DSC = (2 * np.sum(A_Intersect_G)) / (np.sum(AUTO) + np.sum(GT))\n",
    "\n",
    "        DSC_list.append(DSC)\n",
    "        GT_sum.append(np.sum(GT))\n",
    "      \n",
    "    return DSC_list\n"
   ]
  },
  {
   "cell_type": "code",
   "execution_count": null,
   "metadata": {},
   "outputs": [],
   "source": [
    "DSC_list_A = DSC_list(merged_A_gt, merged_A_seg)\n",
    "DSC_list_B = DSC_list(merged_B_gt, merged_B_seg)\n",
    "DSC_list_C = DSC_list(merged_C_gt, merged_C_seg)\n",
    "\n",
    "DSC_list_A_2 = DSC_list(merged_A_gt_2, merged_A_seg_2)\n",
    "DSC_list_B_2 = DSC_list(merged_B_gt_2, merged_B_seg_2)\n",
    "DSC_list_C_2 = DSC_list(merged_C_gt_2, merged_C_seg_2)\n"
   ]
  },
  {
   "cell_type": "code",
   "execution_count": null,
   "metadata": {},
   "outputs": [],
   "source": [
    "print(len(DSC_list_A), len(DSC_list_A_2))"
   ]
  },
  {
   "cell_type": "markdown",
   "metadata": {},
   "source": [
    "## Group Comparison"
   ]
  },
  {
   "cell_type": "code",
   "execution_count": null,
   "metadata": {},
   "outputs": [],
   "source": [
    "window = '8-bit'"
   ]
  },
  {
   "cell_type": "code",
   "execution_count": null,
   "metadata": {},
   "outputs": [],
   "source": [
    "# Original Image\n",
    "gt_list = sorted(glob.glob('./result_12bit/512/GT*.jpg'))\n",
    "seg_list = sorted(glob.glob('./result_12bit/512/SEG*.jpg'))\n",
    "        \n",
    "DSC_Original = DSC_list(gt_list, seg_list)\n"
   ]
  },
  {
   "cell_type": "code",
   "execution_count": null,
   "metadata": {},
   "outputs": [],
   "source": [
    "gt_list_2 = sorted(glob.glob(path+'/512/GT*.jpg'))\n",
    "seg_list_2 = sorted(glob.glob(path+'/512/SEG*.jpg'))\n",
    "        \n",
    "DSC_Original_2 = DSC_list(gt_list_2, seg_list_2)"
   ]
  },
  {
   "cell_type": "code",
   "execution_count": null,
   "metadata": {},
   "outputs": [],
   "source": [
    "# Group A\n",
    "bins = np.arange(0,1+0.01,0.01)\n",
    "\n",
    "plt.hist(DSC_list_A, bins, label='Original Group A', histtype='step')\n",
    "plt.hist(DSC_list_A_2, bins, label= window + ' Group A', histtype='step')\n",
    "\n",
    "plt.xlabel('DSC Values')\n",
    "plt.ylabel('Nodule Amount')\n",
    "plt.title('Group A Original /'+ window + ' Comparison')\n",
    "#plt.xlim(0.1,1)\n",
    "plt.ylim(0,500)\n",
    "plt.legend(loc='upper center')\n",
    "plt.savefig('Group A Comparison', dpi=300)"
   ]
  },
  {
   "cell_type": "code",
   "execution_count": null,
   "metadata": {},
   "outputs": [],
   "source": [
    "# Group B\n",
    "bins = np.arange(0,1+0.01,0.01)\n",
    "\n",
    "plt.hist(DSC_list_B, bins, label='Original Group B', histtype='step')\n",
    "plt.hist(DSC_list_B_2, bins, label= window + ' Group B', histtype='step')\n",
    "\n",
    "plt.xlabel('DSC Values')\n",
    "plt.ylabel('Nodule Amount')\n",
    "plt.title('Group B Original /'+ window + ' Comparison')\n",
    "#plt.xlim(0.1,1)\n",
    "plt.ylim(0,500)\n",
    "plt.legend(loc='upper center')\n",
    "plt.savefig('Group B Comparison', dpi=300)"
   ]
  },
  {
   "cell_type": "code",
   "execution_count": null,
   "metadata": {},
   "outputs": [],
   "source": [
    "# Group C\n",
    "bins = np.arange(0,1+0.01,0.01)\n",
    "\n",
    "plt.hist(DSC_list_C, bins, label='Original Group C', histtype='step')\n",
    "plt.hist(DSC_list_C_2, bins, label= window + ' Group C', histtype='step')\n",
    "\n",
    "plt.xlabel('DSC Values')\n",
    "plt.ylabel('Nodule Amount')\n",
    "plt.title('Group C Original /'+ window + ' Comparison')\n",
    "#plt.xlim(0.1,1)\n",
    "plt.ylim(0,2000)\n",
    "plt.legend(loc='upper center')\n",
    "plt.savefig('Group C Comparison', dpi=300)"
   ]
  },
  {
   "cell_type": "code",
   "execution_count": null,
   "metadata": {},
   "outputs": [],
   "source": [
    "# 512x512\n",
    "bins = np.arange(0,1+0.01,0.01)\n",
    "\n",
    "plt.hist(DSC_Original, bins, label='Original 512x512', histtype='step')\n",
    "plt.hist(DSC_Original_2, bins, label= window +' 512x512', histtype='step')\n",
    "\n",
    "plt.xlabel('DSC Values')\n",
    "plt.ylabel('Nodule Amount')\n",
    "plt.title('512x512 Original' + window + ' Comparison')\n",
    "#plt.xlim(0.1,1)\n",
    "plt.ylim(0,800)\n",
    "plt.legend(loc='upper center')\n",
    "plt.savefig('Original 512x512 Comparison', dpi=300)"
   ]
  },
  {
   "cell_type": "markdown",
   "metadata": {},
   "source": [
    "## Comparison among Groups"
   ]
  },
  {
   "cell_type": "code",
   "execution_count": null,
   "metadata": {},
   "outputs": [],
   "source": [
    "## Number of High, Low DSCs \n",
    "def DSC_count(DSC_list):\n",
    "    high = 0\n",
    "    low = 0\n",
    "    for item in DSC_list:\n",
    "        if item > 0.95:\n",
    "            high += 1\n",
    "        if item < 0.05:\n",
    "            low +=1\n",
    "    \n",
    "    mean = np.mean(DSC_list)\n",
    "            \n",
    "    return high, low, mean"
   ]
  },
  {
   "cell_type": "code",
   "execution_count": null,
   "metadata": {},
   "outputs": [],
   "source": [
    "def split(DSC_list, length):\n",
    "\n",
    "    DSC_split = []\n",
    "    j = 2013\n",
    "    for i in range(length):\n",
    "        \n",
    "        DSC_split.append(DSC_list[j*i:j*(i+1)]) # Merge 된거 4개씩 나눠서 split에 넣음\n",
    "    \n",
    "    print(len(DSC_split))\n",
    "    return DSC_split\n"
   ]
  },
  {
   "cell_type": "code",
   "execution_count": null,
   "metadata": {},
   "outputs": [],
   "source": [
    "def Individual_Plot(DSC_list, DSC_list_2, sizes, group, length, type):\n",
    "    \n",
    "    DSC_split, DSC_split_2 = split(DSC_list, length), split(DSC_list_2, length)\n",
    "    high_list, high_list_2 = [], []\n",
    "    low_list, low_list_2 = [], []\n",
    "    mean_list, mean_list_2 = [], []\n",
    "    \n",
    "    for i in range(len(DSC_split)):\n",
    "        high, low, mean = DSC_count(DSC_split[i])\n",
    "        high_list.append(high)\n",
    "        low_list.append(low)\n",
    "        mean_list.append(mean)\n",
    "    \n",
    "    for i in range(len(DSC_split_2)):\n",
    "        high, low, mean = DSC_count(DSC_split_2[i])\n",
    "        high_list_2.append(high)\n",
    "        low_list_2.append(low)\n",
    "        mean_list_2.append(mean)\n",
    "    \n",
    "    if type == 'low':\n",
    "        df = pd.DataFrame({'Low:Original': low_list, 'Low:'+window: low_list_2}, index=sizes)\n",
    "    else:\n",
    "        df = pd.DataFrame({'High:Original': high_list, 'High:'+window: high_list_2}, index=sizes)\n",
    "    \n",
    "    ax = df.plot.bar(rot=0, width=0.5)\n",
    "    \n",
    "    plt.xlabel('Sizes')\n",
    "    plt.ylabel('Nodule Amount')\n",
    "    \n",
    "    if type == 'low':\n",
    "        plt.title('Number of Low DSCs Group '+group)\n",
    "        plt.savefig('Bar_DSC_Low_'+group, dpi=300)\n",
    "    else:\n",
    "        plt.title('Number of High DSCs Group '+group)\n",
    "        plt.savefig('Bar_DSC_High_'+group, dpi=300)\n",
    "    \n",
    "    "
   ]
  },
  {
   "cell_type": "code",
   "execution_count": null,
   "metadata": {},
   "outputs": [],
   "source": [
    "DSC_merged = DSC_list_A + DSC_list_B + DSC_list_C + DSC_Original\n",
    "DSC_merged_2 = DSC_list_A_2 + DSC_list_B_2 + DSC_list_C_2 + DSC_Original_2\n",
    "lst_merged = lst_A + lst_B + lst_C + [512]\n",
    "print(len(DSC_merged), lst_merged)"
   ]
  },
  {
   "cell_type": "code",
   "execution_count": null,
   "metadata": {},
   "outputs": [],
   "source": [
    "Individual_Plot(DSC_merged, DSC_merged_2, lst_merged, 'All', 13, 'low')"
   ]
  },
  {
   "cell_type": "code",
   "execution_count": null,
   "metadata": {
    "scrolled": true
   },
   "outputs": [],
   "source": [
    "Individual_Plot(DSC_merged, DSC_merged_2, lst_merged, 'All', 13, 'high')"
   ]
  },
  {
   "cell_type": "code",
   "execution_count": null,
   "metadata": {},
   "outputs": [],
   "source": []
  },
  {
   "cell_type": "code",
   "execution_count": null,
   "metadata": {},
   "outputs": [],
   "source": []
  },
  {
   "cell_type": "markdown",
   "metadata": {},
   "source": [
    "## Clearer Analysis "
   ]
  },
  {
   "cell_type": "code",
   "execution_count": null,
   "metadata": {},
   "outputs": [],
   "source": [
    "New_merged = DSC_list_A + DSC_list_B[:2013*2]\n",
    "New_merged_2 = DSC_list_A_2 + DSC_list_B_2[:2013*2]\n",
    "New_lst_merged = lst_A + lst_B[:2]\n",
    "print(len(New_merged))"
   ]
  },
  {
   "cell_type": "code",
   "execution_count": null,
   "metadata": {},
   "outputs": [],
   "source": [
    "Individual_Plot(New_merged, New_merged_2, New_lst_merged, '144~224', 6, 'low')"
   ]
  },
  {
   "cell_type": "code",
   "execution_count": null,
   "metadata": {},
   "outputs": [],
   "source": [
    "Individual_Plot(New_merged, New_merged_2, New_lst_merged, '144~224', 6, 'high')"
   ]
  },
  {
   "cell_type": "code",
   "execution_count": null,
   "metadata": {},
   "outputs": [],
   "source": []
  },
  {
   "cell_type": "code",
   "execution_count": null,
   "metadata": {},
   "outputs": [],
   "source": []
  }
 ],
 "metadata": {
  "kernelspec": {
   "display_name": "Python 3",
   "language": "python",
   "name": "python3"
  },
  "language_info": {
   "codemirror_mode": {
    "name": "ipython",
    "version": 3
   },
   "file_extension": ".py",
   "mimetype": "text/x-python",
   "name": "python",
   "nbconvert_exporter": "python",
   "pygments_lexer": "ipython3",
   "version": "3.7.4"
  }
 },
 "nbformat": 4,
 "nbformat_minor": 2
}
