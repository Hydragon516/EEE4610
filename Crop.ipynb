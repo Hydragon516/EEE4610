{
 "cells": [
  {
   "cell_type": "code",
   "execution_count": 1,
   "metadata": {},
   "outputs": [],
   "source": [
    "import matplotlib.pyplot as plt\n",
    "import numpy as np\n",
    "import cv2\n",
    "import glob\n",
    "import random"
   ]
  },
  {
   "cell_type": "code",
   "execution_count": 2,
   "metadata": {},
   "outputs": [
    {
     "name": "stdout",
     "output_type": "stream",
     "text": [
      "7232 7232\n",
      "./image2/001_000048.jpg ./mask2/001_000048.jpg\n"
     ]
    }
   ],
   "source": [
    "img_list = sorted(glob.glob('./image2/*.jpg'))\n",
    "mask_list = sorted(glob.glob('./mask2/*.jpg'))\n",
    "\n",
    "print(len(img_list), len(mask_list))\n",
    "print(img_list[0], mask_list[0])"
   ]
  },
  {
   "cell_type": "code",
   "execution_count": 3,
   "metadata": {
    "scrolled": true
   },
   "outputs": [],
   "source": [
    "# Preprocessing\n",
    "mask_cv = []\n",
    "img_cv = []\n",
    "for i in range(len(mask_list)):\n",
    "    mask = cv2.imread(mask_list[i], 0)\n",
    "    mask = cv2.resize(mask, (256,256))\n",
    "    ret,mask = cv2.threshold(mask,127,255,cv2.THRESH_BINARY)\n",
    "    mask_cv.append(mask)\n",
    "\n",
    "# img 256x256\n",
    "for i in range(len(img_list)):\n",
    "    img = cv2.imread(img_list[i], 0)\n",
    "    img = cv2.resize(img, (256, 256))\n",
    "    img_cv.append(img)\n",
    "    "
   ]
  },
  {
   "cell_type": "code",
   "execution_count": 4,
   "metadata": {},
   "outputs": [
    {
     "name": "stdout",
     "output_type": "stream",
     "text": [
      "170.20151133501258 134.5478589420655\n"
     ]
    }
   ],
   "source": [
    "indices = np.where(mask_cv[5] != [0])\n",
    "y, x = indices[0], indices[1]\n",
    "coordinates = np.array((x,y))\n",
    "print(sum(x)/len(x), sum(y)/len(y))\n"
   ]
  },
  {
   "cell_type": "code",
   "execution_count": null,
   "metadata": {},
   "outputs": [],
   "source": [
    "# Option 1 - BS\n",
    "def randomCrop(img, mask):\n",
    "    \n",
    "    # Pixels that's inside Mask\n",
    "    indices = np.where(mask != [0]) \n",
    "    pixel_num = len(indices[0]) # Number of white pixels\n",
    "    \n",
    "    if pixel_num > 100:\n",
    "    \n",
    "        while True:\n",
    "        \n",
    "            # Setting (0,128) is too tight\n",
    "        \n",
    "            x = random.randint(0, 80)\n",
    "            y = random.randint(0, 80)\n",
    "    \n",
    "            mask = mask[x:x+128, y:y+128]\n",
    "            img = img[x:x+128, y:y+128]\n",
    "        \n",
    "            indices_check = np.where(mask != [0])\n",
    "    \n",
    "            if len(indices_check[0] <= pixel_num*0.8): \n",
    "                #img_new.append(img)\n",
    "                #mask_new.append(mask)\n",
    "                break\n",
    "            \n",
    "            else:   # Some pixels aren't included\n",
    "                continue\n",
    "    \n",
    "    else:\n",
    "        \n",
    "        x = random.randint(0, 80)\n",
    "        y = random.randint(0, 80)\n",
    "    \n",
    "        mask = mask[x:x+128, y:y+128]\n",
    "        img = img[x:x+128, y:y+128]\n",
    "        \n",
    "    \n",
    "    return img, mask"
   ]
  },
  {
   "cell_type": "code",
   "execution_count": null,
   "metadata": {},
   "outputs": [],
   "source": [
    "# Option 2 - Not bad\n",
    "def randomCrop(img, mask, size):\n",
    "    \n",
    "    indices = np.where(mask != [0])\n",
    "    y, x = indices[0], indices[1]\n",
    "    a, b = (int(sum(x)/len(x)), int(sum(y)/len(y))) # Center of Gravity\n",
    "    W = (max(x) - min(x))//2\n",
    "    h = (max(y) - min(y))//2\n",
    "    \n",
    "    if int(a+W - size) < int(a-W):\n",
    "        x = random.randint(max(0, int(a+W) - size), min(int(a-W), int(size)))\n",
    "    else:\n",
    "        x = random.randint(0, int(a+W) - size)\n",
    "    \n",
    "    if int(b+h - size) < int(b-h):\n",
    "        y = random.randint(max(0, int(b+h) - size), min(int(b-h), int(size)))\n",
    "    else:\n",
    "        y = random.randint(0, int(b+h) - size)\n",
    "    \n",
    "    mask = mask[x:x+size, y:y+size]\n",
    "    img = img[x:x+size, y:y+size]\n",
    "\n",
    "    return img, mask"
   ]
  },
  {
   "cell_type": "code",
   "execution_count": null,
   "metadata": {},
   "outputs": [],
   "source": []
  },
  {
   "cell_type": "code",
   "execution_count": 5,
   "metadata": {},
   "outputs": [],
   "source": [
    "# Option 3 - Main\n",
    "def randomCrop(img, mask, size):\n",
    "    \n",
    "    indices = np.where(mask != [0])\n",
    "    y, x = indices[0], indices[1]\n",
    "    a, b = (min(x), min(y)) # Lower Left Corner \n",
    "    W = (max(x) - min(x)) # Width  \n",
    "    h = (max(y) - min(y)) # Height\n",
    "    #print(a, b, W, h)\n",
    "    \n",
    "    if int(a+W - size) < int(a-W):\n",
    "        x = random.randint(max(0, int(a+W) - size), min(int(a-W), int(size)))\n",
    "    \n",
    "    # Sometimes left is bigger \n",
    "    else:\n",
    "        x = random.randint(0, int(a+W) - size)\n",
    "    \n",
    "    if int(b+h - size) < int(b-h):\n",
    "        y = random.randint(max(0, int(b+h) - size), min(int(b-h), int(size)))\n",
    "    else:\n",
    "        y = random.randint(0, int(b+h) - size)\n",
    "        \n",
    "    #print(x,y)\n",
    "    \n",
    "    mask = mask[x:x+size, y:y+size]\n",
    "    img = img[x:x+size, y:y+size]\n",
    "\n",
    "    return img, mask\n"
   ]
  },
  {
   "cell_type": "code",
   "execution_count": 6,
   "metadata": {},
   "outputs": [],
   "source": [
    "# Saving RandomCrop\n",
    "\n",
    "for i in range(len(img_list)):\n",
    "    \n",
    "    img_path = img_list[i][9:19]\n",
    "    mask_path = mask_list[i][8:18]\n",
    "    \n",
    "    for j in range(4):\n",
    "        \n",
    "        img, mask = randomCrop(img_cv[i], mask_cv[i], 128)\n",
    "     \n",
    "        cv2.imwrite('./crop_image/' + img_path + '_' + str(j+1) + '.jpg', img)\n",
    "        cv2.imwrite('./crop_mask/' + mask_path + '_' + str(j+1) + '.jpg', mask)\n",
    "        \n"
   ]
  },
  {
   "cell_type": "code",
   "execution_count": null,
   "metadata": {},
   "outputs": [],
   "source": []
  }
 ],
 "metadata": {
  "kernelspec": {
   "display_name": "Python 3",
   "language": "python",
   "name": "python3"
  },
  "language_info": {
   "codemirror_mode": {
    "name": "ipython",
    "version": 3
   },
   "file_extension": ".py",
   "mimetype": "text/x-python",
   "name": "python",
   "nbconvert_exporter": "python",
   "pygments_lexer": "ipython3",
   "version": "3.7.4"
  }
 },
 "nbformat": 4,
 "nbformat_minor": 2
}
