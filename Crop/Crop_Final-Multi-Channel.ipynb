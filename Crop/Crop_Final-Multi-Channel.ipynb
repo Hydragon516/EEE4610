{
 "cells": [
  {
   "cell_type": "code",
   "execution_count": 1,
   "metadata": {},
   "outputs": [],
   "source": [
    "import matplotlib.pyplot as plt\n",
    "import numpy as np\n",
    "import cv2\n",
    "import glob\n",
    "import random\n",
    "import os"
   ]
  },
  {
   "cell_type": "code",
   "execution_count": 2,
   "metadata": {},
   "outputs": [
    {
     "name": "stdout",
     "output_type": "stream",
     "text": [
      "6690 6690\n"
     ]
    }
   ],
   "source": [
    "img_list = sorted(glob.glob('./soft_tissue/image/*.png'))\n",
    "mask_list = sorted(glob.glob('./soft_tissue/mask/*.png'))\n",
    "\n",
    "print(len(img_list), len(mask_list))"
   ]
  },
  {
   "cell_type": "code",
   "execution_count": 3,
   "metadata": {
    "scrolled": true
   },
   "outputs": [],
   "source": [
    "# Preprocessing\n",
    "mask_cv = []\n",
    "img_cv = []\n",
    "for i in range(len(mask_list)):\n",
    "    mask = cv2.imread(mask_list[i], cv2.IMREAD_ANYDEPTH)\n",
    "    #ret,mask = cv2.threshold(mask,127,255,cv2.THRESH_BINARY)\n",
    "    mask_cv.append(mask)\n",
    "\n",
    "for i in range(len(img_list)):\n",
    "    img = cv2.imread(img_list[i], cv2.IMREAD_ANYDEPTH)\n",
    "    img_cv.append(img)\n",
    "    "
   ]
  },
  {
   "cell_type": "code",
   "execution_count": 7,
   "metadata": {},
   "outputs": [],
   "source": [
    "# Crop by Center of Gravity\n",
    "\n",
    "def Crop_CoG(img, mask, size):\n",
    "    \n",
    "    indices = np.where(mask != [0])\n",
    "    y, x = indices[0], indices[1]\n",
    "    a, b = (min(x), min(y)) # Lower Left Corner \n",
    "    W = (max(x) - min(x)) # Width  \n",
    "    h = (max(y) - min(y)) # Height\n",
    "    \n",
    "    x = int(a+W/2)\n",
    "    y = int(b+h/2)\n",
    "    \n",
    "    if size < 256:\n",
    "        mask = mask[int(y-size/2):int(y+size/2), int(x-size/2):int(x+size/2)]\n",
    "        img = img[int(y-size/2):int(y+size/2), int(x-size/2):int(x+size/2)]\n",
    "    \n",
    "    elif size == 512:\n",
    "        img = img\n",
    "        mask = mask\n",
    "        \n",
    "    else:\n",
    "        if a + size/2 >= 510:\n",
    "            x = 510 - size/2\n",
    "        if a - size/2 <= 0:\n",
    "            x = size/2 \n",
    "        if b + size/2 >= 510:\n",
    "            y = 510 - size/2\n",
    "        if b - size/2 <= 0:\n",
    "            y = size/2\n",
    "\n",
    "        mask = mask[int(y-size/2):int(y+size/2), int(x-size/2):int(x+size/2)]\n",
    "        img = img[int(y-size/2):int(y+size/2), int(x-size/2):int(x+size/2)]\n",
    "        \n",
    "    return img, mask\n"
   ]
  },
  {
   "cell_type": "code",
   "execution_count": null,
   "metadata": {},
   "outputs": [],
   "source": [
    "size_list = [i for i in range(144, 321, 16)]\n",
    "size_list.append(512)\n",
    "size_list"
   ]
  },
  {
   "cell_type": "code",
   "execution_count": null,
   "metadata": {},
   "outputs": [],
   "source": [
    "print(img_list[1000][20:30], mask_list[1000][19:29])"
   ]
  },
  {
   "cell_type": "code",
   "execution_count": null,
   "metadata": {},
   "outputs": [],
   "source": [
    "# Saving Image\n",
    "\n",
    "for sizes in size_list:\n",
    "    \n",
    "    Image_dir = \"./Crop_Soft_tissue/\" + str(sizes) +'/Image/'\n",
    "    Mask_dir = \"./Crop_Soft_tissue/\" + str(sizes) +'/Mask/'\n",
    "    \n",
    "    try:\n",
    "        if not(os.path.isdir(Image_dir)):\n",
    "            os.makedirs(os.path.join(Image_dir))\n",
    "        if not(os.path.isdir(Mask_dir)):\n",
    "            os.makedirs(os.path.join(Mask_dir))\n",
    "    except OSError as e:\n",
    "        if e.errno != errno.EEXIST:\n",
    "            print(\"Failed to create directory!!!!!\")\n",
    "            raise\n",
    "    \n",
    "    for i in range(len(img_list)):\n",
    "    \n",
    "        img_path = img_list[i][20:30]\n",
    "        mask_path = mask_list[i][19:29]\n",
    "    \n",
    "        # Change Size and File Path\n",
    "        img, mask = Crop_CoG(img_cv[i], mask_cv[i], sizes)\n",
    "    \n",
    "        cv2.imwrite(Image_dir + img_path + '.png', img)\n",
    "        cv2.imwrite(Mask_dir + mask_path + '.png', mask)\n",
    "\n",
    "    print('Finished size: ', sizes)\n",
    "        "
   ]
  },
  {
   "cell_type": "markdown",
   "metadata": {},
   "source": [
    "## Original 512x512"
   ]
  },
  {
   "cell_type": "code",
   "execution_count": null,
   "metadata": {},
   "outputs": [],
   "source": [
    "img_list = sorted(glob.glob('./remove_12bit_png/image/*.png'))\n",
    "mask_list = sorted(glob.glob('./remove_12bit_png/mask/*.png'))\n",
    "\n",
    "Image_dir = \"./Crop_result_12bit/\" + str(512) +'/Image/'\n",
    "Mask_dir = \"./Crop_result_12bit/\" + str(512) +'/Mask/'\n",
    "\n",
    "mask_cv = []\n",
    "img_cv = []\n",
    "for i in range(len(mask_list)):\n",
    "    mask = cv2.imread(mask_list[i], cv2.IMREAD_ANYDEPTH)\n",
    "    #ret,mask = cv2.threshold(mask,127,255,cv2.THRESH_BINARY)\n",
    "    mask_cv.append(mask)\n",
    "\n",
    "for i in range(len(img_list)):\n",
    "    img = cv2.imread(img_list[i], cv2.IMREAD_ANYDEPTH)\n",
    "    img_cv.append(img)\n",
    "    \n",
    "for i in range(len(img_list)):\n",
    "    \n",
    "    img_path = img_list[i][25:35]\n",
    "    mask_path = mask_list[i][24:34]\n",
    "    \n",
    "    cv2.imwrite(Image_dir + img_path + '.png', img)\n",
    "    cv2.imwrite(Mask_dir + mask_path + '.png', mask)\n"
   ]
  },
  {
   "cell_type": "code",
   "execution_count": null,
   "metadata": {},
   "outputs": [],
   "source": []
  },
  {
   "cell_type": "code",
   "execution_count": null,
   "metadata": {},
   "outputs": [],
   "source": []
  }
 ],
 "metadata": {
  "kernelspec": {
   "display_name": "Python 3",
   "language": "python",
   "name": "python3"
  },
  "language_info": {
   "codemirror_mode": {
    "name": "ipython",
    "version": 3
   },
   "file_extension": ".py",
   "mimetype": "text/x-python",
   "name": "python",
   "nbconvert_exporter": "python",
   "pygments_lexer": "ipython3",
   "version": "3.7.4"
  }
 },
 "nbformat": 4,
 "nbformat_minor": 2
}
