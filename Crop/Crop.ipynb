{
 "cells": [
  {
   "cell_type": "code",
   "execution_count": 1,
   "metadata": {},
   "outputs": [],
   "source": [
    "import matplotlib.pyplot as plt\n",
    "import numpy as np\n",
    "import cv2\n",
    "import glob\n",
    "import random"
   ]
  },
  {
   "cell_type": "code",
   "execution_count": 2,
   "metadata": {},
   "outputs": [
    {
     "name": "stdout",
     "output_type": "stream",
     "text": [
      "7232 7232\n",
      "./image2/001_000048.jpg ./mask2/001_000048.jpg\n"
     ]
    }
   ],
   "source": [
    "img_list = sorted(glob.glob('./image2/*.jpg'))\n",
    "mask_list = sorted(glob.glob('./mask2/*.jpg'))\n",
    "\n",
    "print(len(img_list), len(mask_list))\n",
    "print(img_list[0], mask_list[0])"
   ]
  },
  {
   "cell_type": "code",
   "execution_count": 3,
   "metadata": {
    "scrolled": true
   },
   "outputs": [],
   "source": [
    "# Preprocessing\n",
    "mask_cv = []\n",
    "img_cv = []\n",
    "for i in range(len(mask_list)):\n",
    "    mask = cv2.imread(mask_list[i], 0)\n",
    "    mask = cv2.resize(mask, (256,256))\n",
    "    ret,mask = cv2.threshold(mask,127,255,cv2.THRESH_BINARY)\n",
    "    mask_cv.append(mask)\n",
    "\n",
    "# img 256x256\n",
    "for i in range(len(img_list)):\n",
    "    img = cv2.imread(img_list[i], 0)\n",
    "    img = cv2.resize(img, (256, 256))\n",
    "    img_cv.append(img)\n",
    "    "
   ]
  },
  {
   "cell_type": "code",
   "execution_count": 4,
   "metadata": {},
   "outputs": [
    {
     "name": "stdout",
     "output_type": "stream",
     "text": [
      "170.20151133501258 134.5478589420655\n"
     ]
    }
   ],
   "source": [
    "indices = np.where(mask_cv[5] != [0])\n",
    "y, x = indices[0], indices[1]\n",
    "coordinates = np.array((x,y))\n",
    "print(sum(x)/len(x), sum(y)/len(y))\n"
   ]
  },
  {
   "cell_type": "code",
   "execution_count": 5,
   "metadata": {},
   "outputs": [],
   "source": [
    "# Main\n",
    "def randomCrop(img, mask, size):\n",
    "    \n",
    "    indices = np.where(mask != [0])\n",
    "    y, x = indices[0], indices[1]\n",
    "    a, b = (min(x), min(y)) # Lower Left Corner \n",
    "    W = (max(x) - min(x)) # Width  \n",
    "    h = (max(y) - min(y)) # Height\n",
    "    #print(a, b, W, h)\n",
    "    \n",
    "    x = random.randint(max(0, int(a+W) - size), min(int(a), int(size)))\n",
    "    y = random.randint(max(0, int(b+h) - size), min(int(b), int(size)))\n",
    "   \n",
    "    #print(x,y)\n",
    "    \n",
    "    mask = mask[y:y+size, x:x+size]\n",
    "    img = img[y:y+size, x:x+size]\n",
    "\n",
    "    return img, mask"
   ]
  },
  {
   "cell_type": "code",
   "execution_count": null,
   "metadata": {},
   "outputs": [],
   "source": []
  },
  {
   "cell_type": "code",
   "execution_count": 6,
   "metadata": {},
   "outputs": [],
   "source": [
    "# Saving RandomCrop\n",
    "\n",
    "for i in range(len(img_list)):\n",
    "    \n",
    "    img_path = img_list[i][9:19]\n",
    "    mask_path = mask_list[i][8:18]\n",
    "    \n",
    "    for j in range(4):\n",
    "        \n",
    "        img, mask = randomCrop(img_cv[i], mask_cv[i], 128)\n",
    "     \n",
    "        cv2.imwrite('./crop_image/' + img_path + '_' + str(j+1) + '.jpg', img)\n",
    "        cv2.imwrite('./crop_mask/' + mask_path + '_' + str(j+1) + '.jpg', mask)\n",
    "        \n"
   ]
  },
  {
   "cell_type": "code",
   "execution_count": null,
   "metadata": {},
   "outputs": [],
   "source": []
  }
 ],
 "metadata": {
  "kernelspec": {
   "display_name": "Python 3",
   "language": "python",
   "name": "python3"
  },
  "language_info": {
   "codemirror_mode": {
    "name": "ipython",
    "version": 3
   },
   "file_extension": ".py",
   "mimetype": "text/x-python",
   "name": "python",
   "nbconvert_exporter": "python",
   "pygments_lexer": "ipython3",
   "version": "3.7.4"
  }
 },
 "nbformat": 4,
 "nbformat_minor": 2
}
