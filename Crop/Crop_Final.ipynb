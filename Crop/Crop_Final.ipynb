{
 "cells": [
  {
   "cell_type": "code",
   "execution_count": 1,
   "metadata": {},
   "outputs": [],
   "source": [
    "import matplotlib.pyplot as plt\n",
    "import numpy as np\n",
    "import cv2\n",
    "import glob\n",
    "import random"
   ]
  },
  {
   "cell_type": "code",
   "execution_count": 2,
   "metadata": {},
   "outputs": [
    {
     "name": "stdout",
     "output_type": "stream",
     "text": [
      "6654 6654\n",
      "./remove_1/image/001_000067.jpg ./remove_1/mask/001_000067.jpg\n"
     ]
    }
   ],
   "source": [
    "img_list = sorted(glob.glob('./remove_1/image/*.jpg'))\n",
    "mask_list = sorted(glob.glob('./remove_1/mask/*.jpg'))\n",
    "\n",
    "print(len(img_list), len(mask_list))\n",
    "print(img_list[0], mask_list[0])"
   ]
  },
  {
   "cell_type": "code",
   "execution_count": 3,
   "metadata": {
    "scrolled": true
   },
   "outputs": [],
   "source": [
    "# Preprocessing\n",
    "mask_cv = []\n",
    "img_cv = []\n",
    "for i in range(len(mask_list)):\n",
    "    mask = cv2.imread(mask_list[i], 0)\n",
    "    ret,mask = cv2.threshold(mask,127,255,cv2.THRESH_BINARY)\n",
    "    mask_cv.append(mask)\n",
    "\n",
    "for i in range(len(img_list)):\n",
    "    img = cv2.imread(img_list[i], 0)\n",
    "    img_cv.append(img)\n",
    "    "
   ]
  },
  {
   "cell_type": "code",
   "execution_count": 4,
   "metadata": {},
   "outputs": [],
   "source": [
    "# Crop by Center of Gravity\n",
    "\n",
    "def Crop_CoG(img, mask, size):\n",
    "    \n",
    "    indices = np.where(mask != [0])\n",
    "    y, x = indices[0], indices[1]\n",
    "    a, b = (min(x), min(y)) # Lower Left Corner \n",
    "    W = (max(x) - min(x)) # Width  \n",
    "    h = (max(y) - min(y)) # Height\n",
    "    \n",
    "    x = int(a+W/2)\n",
    "    y = int(b+h/2)\n",
    "    \n",
    "    if size < 256:\n",
    "        mask = mask[int(y-size/2):int(y+size/2), int(x-size/2):int(x+size/2)]\n",
    "        img = img[int(y-size/2):int(y+size/2), int(x-size/2):int(x+size/2)]\n",
    "    \n",
    "    else:\n",
    "        if a + size/2 >= 510:\n",
    "            x = 510 - size/2\n",
    "        if a - size/2 <= 0:\n",
    "            x = size/2 \n",
    "        if b + size/2 >= 510:\n",
    "            y = 510 - size/2\n",
    "        if b - size/2 <= 0:\n",
    "            y = size/2\n",
    "\n",
    "        mask = mask[int(y-size/2):int(y+size/2), int(x-size/2):int(x+size/2)]\n",
    "        img = img[int(y-size/2):int(y+size/2), int(x-size/2):int(x+size/2)]\n",
    "        \n",
    "    return img, mask\n"
   ]
  },
  {
   "cell_type": "code",
   "execution_count": 5,
   "metadata": {},
   "outputs": [],
   "source": [
    "size_list = [i for i in range(144, 321, 16)]"
   ]
  },
  {
   "cell_type": "code",
   "execution_count": null,
   "metadata": {},
   "outputs": [],
   "source": [
    "# Test\n",
    "\n",
    "for sizes in size_list:\n",
    "    \n",
    "    for i in range(len(img_list)):\n",
    "    \n",
    "        img, mask = Crop_CoG(img_cv[i], mask_cv[i], sizes)\n",
    "        \n",
    "        ''' \n",
    "        plt.figure()\n",
    "        plt.subplot(1,2,1)\n",
    "        plt.title(i)\n",
    "        plt.imshow(img)\n",
    "        \n",
    "        plt.subplot(1,2,2)\n",
    "        plt.imshow(mask)\n",
    "        '''   \n"
   ]
  },
  {
   "cell_type": "code",
   "execution_count": null,
   "metadata": {},
   "outputs": [],
   "source": [
    "# Saving Image\n",
    "\n",
    "for sizes in size_list:\n",
    "    \n",
    "    for i in range(len(img_list)):\n",
    "    \n",
    "        img_path = img_list[i][16:27]\n",
    "        mask_path = mask_list[i][16:26]\n",
    "    \n",
    "        # Change Size and File Path\n",
    "        img, mask = Crop_CoG(img_cv[i], mask_cv[i], sizes) \n",
    "\n",
    "        cv2.imwrite('./Crop_Final/'+str(sizes)+'/Image/' + img_path + '.jpg', img)\n",
    "        cv2.imwrite('./Crop_Final/'+str(sizes)+'/Mask/' + mask_path + '.jpg', mask)\n",
    "        \n",
    "    print('Finished size: ', sizes)\n",
    "        "
   ]
  },
  {
   "cell_type": "code",
   "execution_count": null,
   "metadata": {},
   "outputs": [],
   "source": []
  },
  {
   "cell_type": "markdown",
   "metadata": {},
   "source": [
    "## 353"
   ]
  },
  {
   "cell_type": "code",
   "execution_count": null,
   "metadata": {},
   "outputs": [],
   "source": [
    "img_list = sorted(glob.glob('./remove_1/353_image/*.jpg'))\n",
    "mask_list = sorted(glob.glob('./remove_1/353_mask/*.jpg'))\n",
    "\n",
    "print(len(img_list), len(mask_list))\n",
    "print(img_list[0], mask_list[0])"
   ]
  },
  {
   "cell_type": "code",
   "execution_count": null,
   "metadata": {},
   "outputs": [],
   "source": [
    "# Preprocessing\n",
    "mask_cv = []\n",
    "img_cv = []\n",
    "for i in range(len(mask_list)):\n",
    "    mask = cv2.imread(mask_list[i], 0)\n",
    "    ret,mask = cv2.threshold(mask,127,255,cv2.THRESH_BINARY)\n",
    "    mask_cv.append(mask)\n",
    "\n",
    "for i in range(len(img_list)):\n",
    "    img = cv2.imread(img_list[i], 0)\n",
    "    img_cv.append(img)\n",
    "    "
   ]
  },
  {
   "cell_type": "code",
   "execution_count": null,
   "metadata": {},
   "outputs": [],
   "source": [
    "# Crop by Center of Gravity\n",
    "\n",
    "def Crop_CoG(img, mask, size):\n",
    "    \n",
    "    indices = np.where(mask != [0])\n",
    "    y, x = indices[0], indices[1]\n",
    "    a, b = (min(x), min(y)) # Lower Left Corner \n",
    "    W = (max(x) - min(x)) # Width  \n",
    "    h = (max(y) - min(y)) # Height\n",
    "    \n",
    "    x = int(a+W/2)\n",
    "    y = int(b+h/2)\n",
    "    \n",
    "    if size <= 256:\n",
    "        mask = mask[int(y-size/2):int(y+size/2), int(x-size/2):int(x+size/2)]\n",
    "        img = img[int(y-size/2):int(y+size/2), int(x-size/2):int(x+size/2)]\n",
    "    \n",
    "    else:\n",
    "        if a + size/2 >= 510:\n",
    "            x = 510 - size/2\n",
    "        if a - size/2 <= 0:\n",
    "            x = size/2 \n",
    "        if b + size/2 >= 510:\n",
    "            y = 510 - size/2\n",
    "        if b - size/2 <= 0:\n",
    "            y = size/2\n",
    "\n",
    "        mask = mask[int(y-size/2):int(y+size/2), int(x-size/2):int(x+size/2)]\n",
    "        img = img[int(y-size/2):int(y+size/2), int(x-size/2):int(x+size/2)]\n",
    "        \n",
    "    return img, mask"
   ]
  },
  {
   "cell_type": "code",
   "execution_count": null,
   "metadata": {},
   "outputs": [],
   "source": []
  },
  {
   "cell_type": "code",
   "execution_count": null,
   "metadata": {},
   "outputs": [],
   "source": []
  }
 ],
 "metadata": {
  "kernelspec": {
   "display_name": "Python 3",
   "language": "python",
   "name": "python3"
  },
  "language_info": {
   "codemirror_mode": {
    "name": "ipython",
    "version": 3
   },
   "file_extension": ".py",
   "mimetype": "text/x-python",
   "name": "python",
   "nbconvert_exporter": "python",
   "pygments_lexer": "ipython3",
   "version": "3.7.4"
  }
 },
 "nbformat": 4,
 "nbformat_minor": 2
}
