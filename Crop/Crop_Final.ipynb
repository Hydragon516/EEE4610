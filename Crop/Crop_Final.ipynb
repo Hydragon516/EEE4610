{
 "cells": [
  {
   "cell_type": "code",
   "execution_count": 1,
   "metadata": {},
   "outputs": [],
   "source": [
    "import matplotlib.pyplot as plt\n",
    "import numpy as np\n",
    "import cv2\n",
    "import glob\n",
    "import random\n",
    "import os"
   ]
  },
  {
   "cell_type": "code",
   "execution_count": 2,
   "metadata": {},
   "outputs": [
    {
     "name": "stdout",
     "output_type": "stream",
     "text": [
      "6654 6654\n",
      "./remove_1/image/001_000067.jpg ./remove_1/mask/001_000067.jpg\n"
     ]
    }
   ],
   "source": [
    "img_list = sorted(glob.glob('./remove_1/image/*.jpg'))\n",
    "mask_list = sorted(glob.glob('./remove_1/mask/*.jpg'))\n",
    "\n",
    "print(len(img_list), len(mask_list))\n",
    "print(img_list[0], mask_list[0])"
   ]
  },
  {
   "cell_type": "code",
   "execution_count": 3,
   "metadata": {
    "scrolled": true
   },
   "outputs": [],
   "source": [
    "# Preprocessing\n",
    "mask_cv = []\n",
    "img_cv = []\n",
    "for i in range(len(mask_list)):\n",
    "    mask = cv2.imread(mask_list[i], 0)\n",
    "    ret,mask = cv2.threshold(mask,127,255,cv2.THRESH_BINARY)\n",
    "    mask_cv.append(mask)\n",
    "\n",
    "for i in range(len(img_list)):\n",
    "    img = cv2.imread(img_list[i], 0)\n",
    "    img_cv.append(img)\n",
    "    "
   ]
  },
  {
   "cell_type": "code",
   "execution_count": 4,
   "metadata": {},
   "outputs": [],
   "source": [
    "# Crop by Center of Gravity\n",
    "\n",
    "def Crop_CoG(img, mask, size):\n",
    "    \n",
    "    indices = np.where(mask != [0])\n",
    "    y, x = indices[0], indices[1]\n",
    "    a, b = (min(x), min(y)) # Lower Left Corner \n",
    "    W = (max(x) - min(x)) # Width  \n",
    "    h = (max(y) - min(y)) # Height\n",
    "    \n",
    "    x = int(a+W/2)\n",
    "    y = int(b+h/2)\n",
    "    \n",
    "    if size < 256:\n",
    "        mask = mask[int(y-size/2):int(y+size/2), int(x-size/2):int(x+size/2)]\n",
    "        img = img[int(y-size/2):int(y+size/2), int(x-size/2):int(x+size/2)]\n",
    "    \n",
    "    else:\n",
    "        if a + size/2 >= 510:\n",
    "            x = 510 - size/2\n",
    "        if a - size/2 <= 0:\n",
    "            x = size/2 \n",
    "        if b + size/2 >= 510:\n",
    "            y = 510 - size/2\n",
    "        if b - size/2 <= 0:\n",
    "            y = size/2\n",
    "\n",
    "        mask = mask[int(y-size/2):int(y+size/2), int(x-size/2):int(x+size/2)]\n",
    "        img = img[int(y-size/2):int(y+size/2), int(x-size/2):int(x+size/2)]\n",
    "        \n",
    "    return img, mask\n"
   ]
  },
  {
   "cell_type": "code",
   "execution_count": 5,
   "metadata": {},
   "outputs": [],
   "source": [
    "size_list = [i for i in range(144, 321, 16)]"
   ]
  },
  {
   "cell_type": "code",
   "execution_count": 6,
   "metadata": {
    "collapsed": true
   },
   "outputs": [
    {
     "ename": "KeyboardInterrupt",
     "evalue": "",
     "output_type": "error",
     "traceback": [
      "\u001b[0;31m---------------------------------------------------------------------------\u001b[0m",
      "\u001b[0;31mKeyboardInterrupt\u001b[0m                         Traceback (most recent call last)",
      "\u001b[0;32m<ipython-input-6-4d24b10869f1>\u001b[0m in \u001b[0;36m<module>\u001b[0;34m\u001b[0m\n\u001b[1;32m      5\u001b[0m     \u001b[0;32mfor\u001b[0m \u001b[0mi\u001b[0m \u001b[0;32min\u001b[0m \u001b[0mrange\u001b[0m\u001b[0;34m(\u001b[0m\u001b[0mlen\u001b[0m\u001b[0;34m(\u001b[0m\u001b[0mimg_list\u001b[0m\u001b[0;34m)\u001b[0m\u001b[0;34m)\u001b[0m\u001b[0;34m:\u001b[0m\u001b[0;34m\u001b[0m\u001b[0;34m\u001b[0m\u001b[0m\n\u001b[1;32m      6\u001b[0m \u001b[0;34m\u001b[0m\u001b[0m\n\u001b[0;32m----> 7\u001b[0;31m         \u001b[0mimg\u001b[0m\u001b[0;34m,\u001b[0m \u001b[0mmask\u001b[0m \u001b[0;34m=\u001b[0m \u001b[0mCrop_CoG\u001b[0m\u001b[0;34m(\u001b[0m\u001b[0mimg_cv\u001b[0m\u001b[0;34m[\u001b[0m\u001b[0mi\u001b[0m\u001b[0;34m]\u001b[0m\u001b[0;34m,\u001b[0m \u001b[0mmask_cv\u001b[0m\u001b[0;34m[\u001b[0m\u001b[0mi\u001b[0m\u001b[0;34m]\u001b[0m\u001b[0;34m,\u001b[0m \u001b[0msizes\u001b[0m\u001b[0;34m)\u001b[0m\u001b[0;34m\u001b[0m\u001b[0;34m\u001b[0m\u001b[0m\n\u001b[0m\u001b[1;32m      8\u001b[0m \u001b[0;34m\u001b[0m\u001b[0m\n\u001b[1;32m      9\u001b[0m         ''' \n",
      "\u001b[0;32m<ipython-input-4-5b51ae7b163d>\u001b[0m in \u001b[0;36mCrop_CoG\u001b[0;34m(img, mask, size)\u001b[0m\n\u001b[1;32m      3\u001b[0m \u001b[0;32mdef\u001b[0m \u001b[0mCrop_CoG\u001b[0m\u001b[0;34m(\u001b[0m\u001b[0mimg\u001b[0m\u001b[0;34m,\u001b[0m \u001b[0mmask\u001b[0m\u001b[0;34m,\u001b[0m \u001b[0msize\u001b[0m\u001b[0;34m)\u001b[0m\u001b[0;34m:\u001b[0m\u001b[0;34m\u001b[0m\u001b[0;34m\u001b[0m\u001b[0m\n\u001b[1;32m      4\u001b[0m \u001b[0;34m\u001b[0m\u001b[0m\n\u001b[0;32m----> 5\u001b[0;31m     \u001b[0mindices\u001b[0m \u001b[0;34m=\u001b[0m \u001b[0mnp\u001b[0m\u001b[0;34m.\u001b[0m\u001b[0mwhere\u001b[0m\u001b[0;34m(\u001b[0m\u001b[0mmask\u001b[0m \u001b[0;34m!=\u001b[0m \u001b[0;34m[\u001b[0m\u001b[0;36m0\u001b[0m\u001b[0;34m]\u001b[0m\u001b[0;34m)\u001b[0m\u001b[0;34m\u001b[0m\u001b[0;34m\u001b[0m\u001b[0m\n\u001b[0m\u001b[1;32m      6\u001b[0m     \u001b[0my\u001b[0m\u001b[0;34m,\u001b[0m \u001b[0mx\u001b[0m \u001b[0;34m=\u001b[0m \u001b[0mindices\u001b[0m\u001b[0;34m[\u001b[0m\u001b[0;36m0\u001b[0m\u001b[0;34m]\u001b[0m\u001b[0;34m,\u001b[0m \u001b[0mindices\u001b[0m\u001b[0;34m[\u001b[0m\u001b[0;36m1\u001b[0m\u001b[0;34m]\u001b[0m\u001b[0;34m\u001b[0m\u001b[0;34m\u001b[0m\u001b[0m\n\u001b[1;32m      7\u001b[0m     \u001b[0ma\u001b[0m\u001b[0;34m,\u001b[0m \u001b[0mb\u001b[0m \u001b[0;34m=\u001b[0m \u001b[0;34m(\u001b[0m\u001b[0mmin\u001b[0m\u001b[0;34m(\u001b[0m\u001b[0mx\u001b[0m\u001b[0;34m)\u001b[0m\u001b[0;34m,\u001b[0m \u001b[0mmin\u001b[0m\u001b[0;34m(\u001b[0m\u001b[0my\u001b[0m\u001b[0;34m)\u001b[0m\u001b[0;34m)\u001b[0m \u001b[0;31m# Lower Left Corner\u001b[0m\u001b[0;34m\u001b[0m\u001b[0;34m\u001b[0m\u001b[0m\n",
      "\u001b[0;31mKeyboardInterrupt\u001b[0m: "
     ]
    }
   ],
   "source": [
    "# Test\n",
    "\n",
    "for sizes in size_list:\n",
    "    \n",
    "    for i in range(len(img_list)):\n",
    "    \n",
    "        img, mask = Crop_CoG(img_cv[i], mask_cv[i], sizes)\n",
    "        \n",
    "        ''' \n",
    "        plt.figure()\n",
    "        plt.subplot(1,2,1)\n",
    "        plt.title(i)\n",
    "        plt.imshow(img)\n",
    "        \n",
    "        plt.subplot(1,2,2)\n",
    "        plt.imshow(mask)\n",
    "        '''   \n"
   ]
  },
  {
   "cell_type": "code",
   "execution_count": null,
   "metadata": {},
   "outputs": [],
   "source": [
    "# Saving Image\n",
    "\n",
    "for sizes in size_list:\n",
    "    \n",
    "    Image_dir = \"./result/\" + str(sizes) +'/Image/'\n",
    "    Mask_dir = \"./result/\" + str(sizes) +'/Mask/'\n",
    "    \n",
    "    try:\n",
    "        if not(os.path.isdir(Image_dir)):\n",
    "            os.makedirs(os.path.join(Image_dir))\n",
    "        if not(os.path.isdir(Mask_dir)):\n",
    "            os.makedirs(os.path.join(Mask_dir))\n",
    "    except OSError as e:\n",
    "        if e.errno != errno.EEXIST:\n",
    "            print(\"Failed to create directory!!!!!\")\n",
    "            raise\n",
    "    \n",
    "    for i in range(len(img_list)):\n",
    "    \n",
    "        img_path = img_list[i][16:27]\n",
    "        mask_path = mask_list[i][16:26]\n",
    "    \n",
    "        # Change Size and File Path\n",
    "        img, mask = Crop_CoG(img_cv[i], mask_cv[i], sizes) \n",
    "        \n",
    "        cv2.imwrite(Image_dir + img_path + '.jpg', img)\n",
    "        cv2.imwrite(Mask_dir + mask_path + '.jpg', mask)\n",
    "\n",
    "    print('Finished size: ', sizes)\n",
    "        "
   ]
  },
  {
   "cell_type": "markdown",
   "metadata": {},
   "source": [
    "## 353"
   ]
  },
  {
   "cell_type": "code",
   "execution_count": null,
   "metadata": {},
   "outputs": [],
   "source": [
    "img_list = sorted(glob.glob('./remove_1/353_image/*.jpg'))\n",
    "mask_list = sorted(glob.glob('./remove_1/353_mask/*.jpg'))\n",
    "\n",
    "print(len(img_list), len(mask_list))\n",
    "print(img_list[0], mask_list[0])"
   ]
  },
  {
   "cell_type": "code",
   "execution_count": null,
   "metadata": {},
   "outputs": [],
   "source": [
    "# Preprocessing\n",
    "mask_cv = []\n",
    "img_cv = []\n",
    "for i in range(len(mask_list)):\n",
    "    mask = cv2.imread(mask_list[i], 0)\n",
    "    ret,mask = cv2.threshold(mask,127,255,cv2.THRESH_BINARY)\n",
    "    mask_cv.append(mask)\n",
    "\n",
    "for i in range(len(img_list)):\n",
    "    img = cv2.imread(img_list[i], 0)\n",
    "    img_cv.append(img)\n",
    "    "
   ]
  },
  {
   "cell_type": "code",
   "execution_count": null,
   "metadata": {},
   "outputs": [],
   "source": [
    "# Crop by Center of Gravity\n",
    "\n",
    "def Crop_CoG(img, mask, size):\n",
    "    \n",
    "    indices = np.where(mask != [0])\n",
    "    y, x = indices[0], indices[1]\n",
    "    a, b = (min(x), min(y)) # Lower Left Corner \n",
    "    W = (max(x) - min(x)) # Width  \n",
    "    h = (max(y) - min(y)) # Height\n",
    "    \n",
    "    x = int(a+W/2)\n",
    "    y = int(b+h/2)\n",
    "    \n",
    "    if size <= 256:\n",
    "        mask = mask[int(y-size/2):int(y+size/2), int(x-size/2):int(x+size/2)]\n",
    "        img = img[int(y-size/2):int(y+size/2), int(x-size/2):int(x+size/2)]\n",
    "    \n",
    "    else:\n",
    "        if a + size/2 >= 510:\n",
    "            x = 510 - size/2\n",
    "        if a - size/2 <= 0:\n",
    "            x = size/2 \n",
    "        if b + size/2 >= 510:\n",
    "            y = 510 - size/2\n",
    "        if b - size/2 <= 0:\n",
    "            y = size/2\n",
    "\n",
    "        mask = mask[int(y-size/2):int(y+size/2), int(x-size/2):int(x+size/2)]\n",
    "        img = img[int(y-size/2):int(y+size/2), int(x-size/2):int(x+size/2)]\n",
    "        \n",
    "    return img, mask"
   ]
  },
  {
   "cell_type": "code",
   "execution_count": null,
   "metadata": {},
   "outputs": [],
   "source": []
  },
  {
   "cell_type": "code",
   "execution_count": null,
   "metadata": {},
   "outputs": [],
   "source": []
  }
 ],
 "metadata": {
  "kernelspec": {
   "display_name": "Python 3",
   "language": "python",
   "name": "python3"
  },
  "language_info": {
   "codemirror_mode": {
    "name": "ipython",
    "version": 3
   },
   "file_extension": ".py",
   "mimetype": "text/x-python",
   "name": "python",
   "nbconvert_exporter": "python",
   "pygments_lexer": "ipython3",
   "version": "3.7.4"
  }
 },
 "nbformat": 4,
 "nbformat_minor": 2
}
