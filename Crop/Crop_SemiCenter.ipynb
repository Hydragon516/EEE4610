{
 "cells": [
  {
   "cell_type": "code",
   "execution_count": 1,
   "metadata": {},
   "outputs": [],
   "source": [
    "import matplotlib.pyplot as plt\n",
    "import numpy as np\n",
    "import cv2\n",
    "import glob\n",
    "import random"
   ]
  },
  {
   "cell_type": "code",
   "execution_count": 2,
   "metadata": {},
   "outputs": [
    {
     "name": "stdout",
     "output_type": "stream",
     "text": [
      "5712 5712\n",
      "./image2/001_000067.jpg ./mask2/001_000067.jpg\n"
     ]
    }
   ],
   "source": [
    "img_list = sorted(glob.glob('./image2/*.jpg'))\n",
    "mask_list = sorted(glob.glob('./mask2/*.jpg'))\n",
    "\n",
    "print(len(img_list), len(mask_list))\n",
    "print(img_list[0], mask_list[0])"
   ]
  },
  {
   "cell_type": "code",
   "execution_count": 3,
   "metadata": {
    "scrolled": true
   },
   "outputs": [],
   "source": [
    "# Preprocessing\n",
    "mask_cv = []\n",
    "img_cv = []\n",
    "for i in range(len(mask_list)):\n",
    "    mask = cv2.imread(mask_list[i], 0)\n",
    "    ret,mask = cv2.threshold(mask,127,255,cv2.THRESH_BINARY)\n",
    "    mask_cv.append(mask)\n",
    "\n",
    "# img 256x256\n",
    "for i in range(len(img_list)):\n",
    "    img = cv2.imread(img_list[i], 0)\n",
    "    img_cv.append(img)\n",
    "    "
   ]
  },
  {
   "cell_type": "code",
   "execution_count": 4,
   "metadata": {},
   "outputs": [
    {
     "name": "stdout",
     "output_type": "stream",
     "text": [
      "338.7404927691484 262.19469737546865\n"
     ]
    }
   ],
   "source": [
    "indices = np.where(mask_cv[5] != [0])\n",
    "y, x = indices[0], indices[1]\n",
    "coordinates = np.array((x,y))\n",
    "print(sum(x)/len(x), sum(y)/len(y))\n"
   ]
  },
  {
   "cell_type": "code",
   "execution_count": null,
   "metadata": {},
   "outputs": [],
   "source": []
  },
  {
   "cell_type": "code",
   "execution_count": 43,
   "metadata": {},
   "outputs": [],
   "source": [
    "# Size Consider\n",
    "\n",
    "def SemiCenter(img, mask, size):\n",
    "    \n",
    "    indices = np.where(mask != [0])\n",
    "    y, x = indices[0], indices[1]\n",
    "    a, b = (min(x), min(y)) # Lower Left Corner \n",
    "    W = (max(x) - min(x)) # Width  \n",
    "    h = (max(y) - min(y)) # Height\n",
    "    \n",
    "    x = int(a+W/2) # Center x\n",
    "    y = int(b+h/2) # Center y\n",
    "    \n",
    "    s_h = max(0, (size - h)/2) # Height Space\n",
    "    s_w = max(0, (size - W)/2) # Height Width\n",
    "    \n",
    "    x_spare = min(s_w, W)/2 # x 축 여유\n",
    "    y_spare = min(s_h, h)/2 # y 축 여유\n",
    "    #print(x, y, x_spare, y_spare)\n",
    "    x_new = random.randint(int(x-x_spare), int(x+x_spare))\n",
    "    y_new = random.randint(int(y-y_spare), int(y+y_spare)) # New CoG\n",
    "    \n",
    "    if size <= 256:\n",
    "        \n",
    "        if size/2 < y_new < 511 - size/2: # 범위 안 벗어나면 y, x 업데이트. 벗어나면 그냥 무게중심으로 \n",
    "            y = y_new\n",
    "            \n",
    "        if size/2 < x_new < 511 - size/2:\n",
    "            x = x_new\n",
    "    \n",
    "    else:\n",
    "        if a + size/2 >= 510:\n",
    "            x = 510 - size/2\n",
    "        elif a - size/2 <= 0:\n",
    "            x = size/2 \n",
    "        else:\n",
    "            if size/2 < y_new < 512 - size/2: # 범위 안 벗어나면 y, x 업데이트. 벗어나면 그냥 무게중심으로 \n",
    "                y = y_new\n",
    "                \n",
    "        if b + size/2 >= 510:\n",
    "            y = 510 - size/2\n",
    "        elif b - size/2 <= 0:\n",
    "            y = size/2\n",
    "        else:\n",
    "            if size/2 < x_new < 512 - size/2:\n",
    "                x = x_new\n",
    "    \n",
    "    #print(x_new, y_new, x, y)\n",
    "    mask = mask[int(y-size/2):int(y+size/2), int(x-size/2):int(x+size/2)]\n",
    "    img = img[int(y-size/2):int(y+size/2), int(x-size/2):int(x+size/2)]\n",
    "        \n",
    "    return img, mask"
   ]
  },
  {
   "cell_type": "code",
   "execution_count": 44,
   "metadata": {},
   "outputs": [],
   "source": [
    "# Test\n",
    "for i in range(len(img_list)):\n",
    "    \n",
    "    img_path = img_list[i][9:19]\n",
    "    mask_path = mask_list[i][8:18]\n",
    "    \n",
    "    img, mask = SemiCenter(img_cv[i], mask_cv[i], 144)\n"
   ]
  },
  {
   "cell_type": "code",
   "execution_count": null,
   "metadata": {},
   "outputs": [],
   "source": []
  },
  {
   "cell_type": "code",
   "execution_count": 49,
   "metadata": {},
   "outputs": [],
   "source": [
    "# Saving RandomCrop\n",
    "\n",
    "for i in range(len(img_list)):\n",
    "    \n",
    "    img_path = img_list[i][9:19]\n",
    "    mask_path = mask_list[i][8:18]\n",
    "\n",
    "    for j in range(3):\n",
    "    \n",
    "        img, mask = SemiCenter(img_cv[i], mask_cv[i], 144)\n",
    "        cv2.imwrite('./Crop_Semirand/Image_Sr_144/' + img_path + '_' + str(j+1) + '.jpg', img)\n",
    "        cv2.imwrite('./Crop_Semirand/Mask_Sr_144/' + mask_path + '_' + str(j+1) + '.jpg', mask)\n",
    "        "
   ]
  },
  {
   "cell_type": "code",
   "execution_count": null,
   "metadata": {},
   "outputs": [],
   "source": []
  },
  {
   "cell_type": "code",
   "execution_count": null,
   "metadata": {},
   "outputs": [],
   "source": []
  }
 ],
 "metadata": {
  "kernelspec": {
   "display_name": "Python 3",
   "language": "python",
   "name": "python3"
  },
  "language_info": {
   "codemirror_mode": {
    "name": "ipython",
    "version": 3
   },
   "file_extension": ".py",
   "mimetype": "text/x-python",
   "name": "python",
   "nbconvert_exporter": "python",
   "pygments_lexer": "ipython3",
   "version": "3.7.4"
  }
 },
 "nbformat": 4,
 "nbformat_minor": 2
}
