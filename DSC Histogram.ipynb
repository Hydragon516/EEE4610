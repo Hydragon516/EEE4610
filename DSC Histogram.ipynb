{
 "cells": [
  {
   "cell_type": "code",
   "execution_count": 1,
   "metadata": {},
   "outputs": [],
   "source": [
    "import matplotlib.pyplot as plt\n",
    "import numpy as np\n",
    "import cv2\n",
    "import glob"
   ]
  },
  {
   "cell_type": "code",
   "execution_count": 2,
   "metadata": {
    "scrolled": true
   },
   "outputs": [
    {
     "name": "stdout",
     "output_type": "stream",
     "text": [
      "700 700\n"
     ]
    }
   ],
   "source": [
    "gt_list = sorted(glob.glob('./result/GT*.jpg'))\n",
    "seg_list = sorted(glob.glob('./result/SEG*.jpg'))\n",
    "img_list = sorted(glob.glob('./result/IMAGE*.jpg'))\n",
    "\n",
    "print(len(gt_list), len(seg_list))\n"
   ]
  },
  {
   "cell_type": "code",
   "execution_count": 3,
   "metadata": {},
   "outputs": [
    {
     "data": {
      "text/plain": [
       "'./result/GT_0_1.jpg'"
      ]
     },
     "execution_count": 3,
     "metadata": {},
     "output_type": "execute_result"
    }
   ],
   "source": [
    "gt_list[0]"
   ]
  },
  {
   "cell_type": "code",
   "execution_count": 4,
   "metadata": {},
   "outputs": [],
   "source": [
    "\n",
    "def get_DSC_acc(gt_list, seg_list):\n",
    "    \n",
    "    DSC_list = []\n",
    "    for i in range(len(gt_list)):\n",
    "        \n",
    "        GT = cv2.imread(gt_list[i], 0)/255\n",
    "        GT[GT > 0.5] = 1\n",
    "        GT[GT <= 0.5] = 0\n",
    "\n",
    "        AUTO = cv2.imread(seg_list[i], 0)/255\n",
    "        AUTO[AUTO > 0.5] = 1\n",
    "        AUTO[AUTO <= 0.5] = 0\n",
    "\n",
    "        A_Intersect_G = np.multiply(AUTO, GT)\n",
    "                \n",
    "        DSC = (2 * np.sum(A_Intersect_G)) / (np.sum(AUTO) + np.sum(GT))\n",
    "        DSC_list.append(DSC)\n",
    "    \n",
    "    return DSC_list\n",
    "\n",
    "\n"
   ]
  },
  {
   "cell_type": "code",
   "execution_count": 5,
   "metadata": {},
   "outputs": [
    {
     "name": "stdout",
     "output_type": "stream",
     "text": [
      "81\n",
      "0.7307853894638551\n"
     ]
    }
   ],
   "source": [
    "DSC_list = get_DSC_acc(gt_list, seg_list)\n",
    "j=0\n",
    "for i in range(len(DSC_list)):\n",
    "    \n",
    "    if DSC_list[i] == 0.0:\n",
    "        j += 1\n",
    "        \n",
    "print(j)\n",
    "\n",
    "print(sum(DSC_list)/700)"
   ]
  },
  {
   "cell_type": "code",
   "execution_count": 6,
   "metadata": {},
   "outputs": [
    {
     "data": {
      "image/png": "[encoded data removed]",
      "text/plain": [
       "<Figure size 432x288 with 1 Axes>"
      ]
     },
     "metadata": {
      "needs_background": "light"
     },
     "output_type": "display_data"
    }
   ],
   "source": [
    "#plt.hist(DSC_list, len(DSC_list))\n",
    "plt.hist(DSC_list, 700, density=True, facecolor='b', alpha=1)\n",
    "\n",
    "\n",
    "plt.xlabel('DSC Values')\n",
    "plt.ylabel('Nodule Amount')\n",
    "plt.title('Histogram of DSC')\n",
    "\n",
    "plt.xlim(0.0, 1.0)\n",
    "plt.ylim(0, 10)\n",
    "plt.show()\n"
   ]
  },
  {
   "cell_type": "code",
   "execution_count": null,
   "metadata": {},
   "outputs": [],
   "source": []
  }
 ],
 "metadata": {
  "kernelspec": {
   "display_name": "Python 3",
   "language": "python",
   "name": "python3"
  },
  "language_info": {
   "codemirror_mode": {
    "name": "ipython",
    "version": 3
   },
   "file_extension": ".py",
   "mimetype": "text/x-python",
   "name": "python",
   "nbconvert_exporter": "python",
   "pygments_lexer": "ipython3",
   "version": "3.7.4"
  }
 },
 "nbformat": 4,
 "nbformat_minor": 2
}
